{
  "nbformat": 4,
  "nbformat_minor": 0,
  "metadata": {
    "colab": {
      "provenance": []
    },
    "kernelspec": {
      "name": "python3",
      "display_name": "Python 3"
    },
    "language_info": {
      "name": "python"
    }
  },
  "cells": [
    {
      "cell_type": "code",
      "source": [
        "!pip install pymupdf\n",
        "#!pip install PyPDF2\n",
        "!pip install fpdf\n",
        "!pip install reportlab"
      ],
      "metadata": {
        "colab": {
          "base_uri": "https://localhost:8080/"
        },
        "id": "zp2rxwe2ua49",
        "outputId": "81c89d03-2bf3-49f5-a6a5-de47f48fb9e5"
      },
      "execution_count": null,
      "outputs": [
        {
          "output_type": "stream",
          "name": "stdout",
          "text": [
            "Collecting pymupdf\n",
            "  Downloading PyMuPDF-1.24.5-cp310-none-manylinux2014_x86_64.whl (3.5 MB)\n",
            "\u001b[2K     \u001b[90m━━━━━━━━━━━━━━━━━━━━━━━━━━━━━━━━━━━━━━━━\u001b[0m \u001b[32m3.5/3.5 MB\u001b[0m \u001b[31m10.7 MB/s\u001b[0m eta \u001b[36m0:00:00\u001b[0m\n",
            "\u001b[?25hCollecting PyMuPDFb==1.24.3 (from pymupdf)\n",
            "  Downloading PyMuPDFb-1.24.3-py3-none-manylinux2014_x86_64.manylinux_2_17_x86_64.whl (15.8 MB)\n",
            "\u001b[2K     \u001b[90m━━━━━━━━━━━━━━━━━━━━━━━━━━━━━━━━━━━━━━━━\u001b[0m \u001b[32m15.8/15.8 MB\u001b[0m \u001b[31m45.3 MB/s\u001b[0m eta \u001b[36m0:00:00\u001b[0m\n",
            "\u001b[?25hInstalling collected packages: PyMuPDFb, pymupdf\n",
            "Successfully installed PyMuPDFb-1.24.3 pymupdf-1.24.5\n",
            "Collecting fpdf\n",
            "  Downloading fpdf-1.7.2.tar.gz (39 kB)\n",
            "  Preparing metadata (setup.py) ... \u001b[?25l\u001b[?25hdone\n",
            "Building wheels for collected packages: fpdf\n",
            "  Building wheel for fpdf (setup.py) ... \u001b[?25l\u001b[?25hdone\n",
            "  Created wheel for fpdf: filename=fpdf-1.7.2-py2.py3-none-any.whl size=40702 sha256=ba365f26ebe5d7dfe244038d9a16188e83fd2628cce3c8fdca5d307787b58c73\n",
            "  Stored in directory: /root/.cache/pip/wheels/f9/95/ba/f418094659025eb9611f17cbcaf2334236bf39a0c3453ea455\n",
            "Successfully built fpdf\n",
            "Installing collected packages: fpdf\n",
            "Successfully installed fpdf-1.7.2\n",
            "Collecting reportlab\n",
            "  Downloading reportlab-4.2.0-py3-none-any.whl (1.9 MB)\n",
            "\u001b[2K     \u001b[90m━━━━━━━━━━━━━━━━━━━━━━━━━━━━━━━━━━━━━━━━\u001b[0m \u001b[32m1.9/1.9 MB\u001b[0m \u001b[31m10.7 MB/s\u001b[0m eta \u001b[36m0:00:00\u001b[0m\n",
            "\u001b[?25hRequirement already satisfied: pillow>=9.0.0 in /usr/local/lib/python3.10/dist-packages (from reportlab) (9.4.0)\n",
            "Requirement already satisfied: chardet in /usr/local/lib/python3.10/dist-packages (from reportlab) (5.2.0)\n",
            "Installing collected packages: reportlab\n",
            "Successfully installed reportlab-4.2.0\n"
          ]
        }
      ]
    },
    {
      "cell_type": "code",
      "execution_count": null,
      "metadata": {
        "id": "YlXkHJ1DtwJj"
      },
      "outputs": [],
      "source": [
        "import pandas as pd\n",
        "import fitz  # PyMuPDF\n",
        "from jellyfish import jaro_winkler_similarity\n",
        "from reportlab.lib.pagesizes import A4\n",
        "from reportlab.lib import colors\n",
        "from reportlab.lib.styles import getSampleStyleSheet, ParagraphStyle\n",
        "from reportlab.platypus import SimpleDocTemplate, Paragraph, Spacer"
      ]
    },
    {
      "cell_type": "code",
      "source": [
        "# Membaca dataset dari file Excel\n",
        "dataset_path = '/content/1000dataset.xlsx'\n",
        "df = pd.read_excel(dataset_path)\n",
        "\n",
        "data_frame = df['KATA']\n",
        "\n",
        "# Menyimpan kata-kata dalam list\n",
        "word_list = data_frame.tolist()\n",
        "word_list_with_dot = (data_frame + '.').tolist()\n",
        "word_list_with_comma = (data_frame + ',').tolist()\n",
        "\n",
        "word_list = word_list + word_list_with_dot + word_list_with_comma\n",
        "total_dataset = len(word_list)\n",
        "\n",
        "# Menampilkan dataset\n",
        "print(word_list)\n",
        "\n",
        "# Menampilkan total dataset\n",
        "print(f\"Total dataset yang tersedia: {total_dataset}\")"
      ],
      "metadata": {
        "colab": {
          "base_uri": "https://localhost:8080/"
        },
        "id": "dKKSOSRnuNti",
        "outputId": "b0ea6437-8735-4300-8301-4c7bef7c491b"
      },
      "execution_count": null,
      "outputs": [
        {
          "output_type": "stream",
          "name": "stdout",
          "text": [
            "['abang', 'adik', 'adonan', 'air', 'air conditioner', 'teman', 'akuarium', 'Al-Quran', 'alamat', 'alat', 'alfabet', 'alis', 'Allah', 'alpukat', 'ambulan', 'amplop', 'anak', 'anggur', 'angin', 'angin', 'angklung', 'angkot', 'anjing', 'anjing laut', 'anting', 'apartemen', 'apel', 'api', 'apotek', 'asap', 'asbak', 'atap', 'awan', 'ayah', 'ayam goreng', 'ayunan', 'babi', 'badak', 'badan', 'badut', 'bajaj', 'baju', 'bak mandi', 'balok', 'balon', 'ban', 'bandara', 'bando', 'bangau', 'banjir', 'bank', 'bantal', 'banteng', 'bapak', 'bapak guru', 'batang', 'baterai', 'batik', 'batu', 'bayangan', 'bayi', 'bebek', 'becak', 'bedak', 'bel', 'belalai', 'belalang', 'belimbing', 'belut', 'benang', 'bendera', 'bengkel', 'beras', 'beruang', 'besi', 'bibir', 'biji', 'binatang', 'bintang', 'bintang laut', 'biola', 'bioskop', 'bis', 'biskuit', 'boks', 'bola', 'bolu', 'boneka', 'botol', 'brokoli', 'bros', 'buah', 'buaya', 'bubur', 'buku cerita', 'buku gambar', 'buku tulis', 'bulan', 'buncis', 'bunda', 'bunga', 'burung', 'cabai', 'cangkir', 'cangkul', 'capit', 'capung', 'cas', 'cat air', 'celana', 'cerita', 'cermin', 'cicak', 'cincin', 'closet', 'coklat', 'crayon', 'cuka', 'cumi-cumi', 'dada', 'dadu', 'daging', 'dagu', 'danau', 'dapur', 'dasi', 'dan', 'delman', 'desa', 'dinding', 'dinosaurus', 'dispenser', 'dokter', 'dokter gigi', 'domba', 'dompet', 'donat', 'drum', 'durian', 'duyung', 'ekor', 'elang', 'ember', 'embun', 'es batu', 'es krim', 'eskalator', 'fajar', 'film', 'flu', 'foto', 'gajah', 'gambar', 'gantungan', 'garam', 'garasi', 'garis', 'garpu', 'gaun', 'gayung', 'gedung', 'gelang', 'gelas', 'gelembung', 'gendang', 'genteng', 'gereja', 'gergaji', 'gigi', 'giliran', 'gitar', 'gorila', 'gula', 'guling', 'gunting', 'gunung', 'gurita', 'guru', 'gurun', 'hadiah', 'halaman', 'hamster', 'handphone', 'handuk', 'hantu', 'hari', 'harimau', 'hati', 'helikopter', 'helm', 'hewan', 'hiasan', 'hidung', 'hotel', 'hukuman', 'huruf', 'hutan', 'ibu', 'ibu dokter', 'ibu guru', 'ibu polisi', 'ide', 'iguana', 'ikan', 'ikat pinggang', 'ikat rambut', 'ikatan', 'implan', 'induk', 'instruksi', 'itik', 'izin', 'jagung', 'jagung', 'jajan', 'Jakarta', 'jaket', 'jalan raya', 'jam', 'jam dinding', 'jam tangan', 'jambu air', 'jambu biji', 'janji', 'jarak', 'jari', 'jaring', 'jarum', 'jas', 'jembatan', 'jempol', 'jendela', 'jenggot', 'jepit rambut', 'jepitan', 'jerapah', 'jerapah', 'jeruk', 'jilbab', 'jurang', 'jus', 'kabel', 'kabin', 'kaca', 'kaca mata', 'kacang', 'kadal', 'kado', 'kain', 'kakak', 'kakek', 'kaki', 'kalajengking', 'kalender', 'kaleng', 'kalung', 'kamar', 'kamar mandi', 'kambing', 'kamera', 'kancing', 'kandang', 'kantong', 'kantor', 'kantor polisi', 'kantor pos', 'kaos', 'kaos kaki', 'kapal', 'karcis', 'kardus', 'karpet', 'kartu', 'kaset', 'kasir', 'kasur', 'katak', 'kayu', 'kebakaran', 'kebun binatang', 'kecap', 'kecelakaan', 'kecoa', 'keju', 'kelapa', 'keledai', 'kelelawar', 'kelengkeng', 'kelereng', 'kelinci', 'kelingking', 'keluarga', 'kembalian', 'kemeja', 'kenari', 'kendaraan', 'kening', 'keong', 'kepala', 'kepik', 'kepiting', 'kerang', 'keranjang', 'kerbau', 'kereta api', 'keripik', 'kertas', 'kerupuk', 'keset', 'kipas angin', 'kiwi', 'koala', 'koin', 'koki', 'kol', 'kolam', 'kolam renang', 'kolong', 'komik', 'komodo', 'kompor', 'komputer', 'koper', 'kopi', 'koran', 'kota', 'kotak', 'kotak pensil', 'kotoran', 'kran air', 'kuas', 'kubus', 'kucing', 'kuda', 'kuda laut', 'kuda nil', 'kuku', 'kulit', 'kulkas', 'kuman', 'kumbang', 'kumis', 'kunci', 'kuping', 'kupu-kupu', 'kura-kura', 'kurma', 'kursi', 'kutek', 'kutub', 'laba-laba', 'laci', 'lagu', 'laki-laki', 'lalat', 'lalu lintas', 'lambang', 'lampu', 'lampu merah', 'langit', 'lantai', 'lap', 'lapangan', 'laptop', 'las', 'latihan', 'laut', 'lebah', 'lego', 'leher', 'lem', 'lemak', 'lemari', 'lidah', 'lilin', 'lingkaran', 'lipstik', 'lirik', 'lisan', 'listrik', 'lomba', 'lonjong', 'lubang', 'luka', 'lukisan', 'lumba-lumba', 'lumpur', 'lutut', 'maaf', 'macan', 'madu', 'magnet', 'mahkota', 'mainan', 'majalah', 'makanan', 'makaroni', 'maling', 'mall', 'mama', 'mangga', 'manggis', 'mangkok', 'markisa', 'masjid', 'mata', 'matahari', 'meisis', 'meja', 'meja makan', 'melon', 'menara', 'mentega', 'mie', 'minuman', 'minyak goreng', 'minyak kayu putih', 'mobil', 'monyet', 'motor', 'muka', 'mukena', 'mulut', 'murid', 'musik', 'nama', 'nama lengkap', 'nama panggilan', 'nama panjang', 'nama pendek', 'nanas', 'nangka', 'nasi', 'nelayan', 'nenek', 'nyamuk', 'obat', 'obeng', 'odol', 'om', 'oma', 'ombak', 'ongkos', 'opa', 'orang', 'orang sakit', 'orang tua', 'orangutan', 'otak', 'oval', 'oven', 'pagar', 'paha', 'pajangan', 'pakaian', 'paku', 'palu', 'paman', 'panah', 'panca indera', 'panci', 'pancingan', 'panda', 'pantai', 'pantat', 'papan tulis', 'paprika', 'pasar', 'pasir', 'pasta gigi', 'patung', 'payung', 'pedagang', 'pelabuhan', 'pelangi', 'pelaut', 'peluit', 'pelukan', 'pelukis', 'pemadam kebakaran', 'pemalu', 'pembeli', 'pena', 'penari', 'pencuri', 'pendiam', 'pengamen', 'pengemis', 'penggaris', 'penghapus', 'penjahat', 'penjahit', 'penjara', 'pensil', 'pensil warna', 'penumpang', 'penyanyi', 'penyu', 'pepaya', 'perahu', 'perawat', 'perempuan', 'perhatian', 'perpustakaan', 'persegi panjang', 'perut', 'pesanan', 'pesanan', 'pesawat', 'pesawat terbang', 'pesta', 'petani', 'peternakan', 'petir', 'petugas', 'piala', 'piano', 'pil', 'pilihan', 'pilot', 'pinggang', 'pinguin', 'pintu', 'pipa', 'pipi', 'pir', 'piring', 'pisang', 'pisau', 'pistol', 'pita', 'pizza', 'plastik', 'pohon', 'polisi', 'pom bensin', 'popok', 'pos', 'pramugari', 'presiden', 'profesi', 'pulau', 'pulpen', 'pundak', 'punggung', 'pup', 'puzzle', 'radio', 'rambut', 'rambutan', 'rel', 'remote', 'restoran', 'roda', 'rok', 'roti', 'ruang makan', 'ruang tamu', 'ruangan', 'rubah', 'rumah', 'rumah makan', 'rumah sakit', 'rumput', 'rusa', 'sabun', 'salon', 'sampah', 'sampo', 'sandal', 'sapi', 'sawah', 'sayap', 'sayur', 'sekolah', 'sekop', 'selai', 'selang', 'selang', 'selimut', 'semangka', 'sembunyi', 'semut', 'sendok', 'sepatu', 'sepeda', 'serangga', 'serigala', 'setir', 'shower', 'sihir', 'sikat gigi', 'siku', 'singa', 'singlet', 'siput', 'sirup', 'sisir', 'soda', 'sofa', 'sosis', 'spion', 'stasiun', 'stiker', 'stroberi', 'suara', 'sungai', 'supir', 'surat', 'suster', 'susu', 'taksi', 'tali', 'taman', 'taman bermain', 'tambal', 'tanah', 'tanaman', 'tanda', 'tangga', 'tangkai', 'tangki', 'tanjakan', 'tante', 'tapir', 'taplak', 'tart', 'tas', 'teh', 'teko', 'telapak tangan', 'telepon', 'telinga', 'telunjuk', 'telur', 'teman', 'tempat', 'tempat makan', 'tempat pensil', 'tempat sampah', 'tempat tidur', 'tempat tinggal', 'tenda', 'tentara', 'tepung', 'teras', 'terminal', 'termos', 'terompet', 'tiang', 'tiket', 'tikungan', 'tinta', 'tirai', 'tisu', 'tivi', 'TK', 'toga', 'toilet', 'toko', 'tomat', 'tombol', 'tongkat', 'topi', 'truk', 'tugu', 'Tuhan', 'tulang', 'tulisan', 'tumbuhan', 'tumpukan', 'tupai', 'turunan', 'uang', 'uap', 'ubi', 'ubur-ubur', 'udang', 'udara', 'ukuran', 'ular', 'ulat', 'umi', 'umpan', 'umur', 'undangan', 'unta', 'usaha', 'vas bunga', 'wafer', 'wajah', 'wajan', 'waktu', 'wanita', 'warna', 'wastafel', 'wihara', 'wisata', 'wisuda', 'wortel', 'youtube', 'yoyo', 'zebra', 'awal', 'atas', 'asyik', 'asin', 'asam', 'aman', 'akhir', 'ada', 'bagus', 'bahagia', 'baik', 'banyak', 'baru', 'basah', 'basi', 'becek', 'beda', 'bekas', 'belakang', 'bening', 'berani', 'berat', 'berisik', 'cair', 'cantik', 'capek', 'cekatan', 'celaka', 'cemas', 'cemberut', 'cengeng', 'cepat', 'cerewet', 'cermat', 'ceroboh', 'cukup', 'curang', 'dangkal', 'dekat', 'depan', 'deras', 'dingin', 'dalam', 'enak', 'gagah', 'galak', 'gatal', 'gaya', 'gelap', 'geli', 'gelisah', 'gembira', 'gendut', 'geram', 'gersang', 'gesit', 'giat', 'gosong', 'habis', 'halus', 'hambar', 'hancur', 'hangat', 'harum', 'haus', 'hebat', 'hemat', 'heran', 'hilang', 'ikal', 'indah', 'istimewa', 'kaget', 'kaku', 'kalah', 'kasar', 'kasihan', 'kecewa', 'kecil', 'kencang', 'kenyang', 'keras', 'kering', 'keriput', 'keriting', 'keruh', 'kesal', 'ketinggalan', 'kikir', 'kokoh', 'komplit', 'kosong', 'kotor', 'kuat', 'kurang', 'kurus', 'lama', 'lambat', 'lancar', 'larut', 'lebar', 'lelah', 'leleh', 'lemah', 'lemas', 'lembab', 'lembek', 'lembut', 'lengket', 'lentur', 'lesu', 'letih', 'lezat', 'licin', 'lincah', 'longgar', 'luar', 'luas', 'lucu', 'lunak', 'lurus', 'macet', 'mahal', 'malas', 'malu', 'mampu', 'manis', 'marah', 'masam', 'matang', 'menang', 'mentah', 'mudah', 'murah', 'nakal', 'ngantuk', 'ngilu', 'nyaman', 'nyenyak', 'nyuap', 'ngumpet', 'ompong', 'padat', 'pahit', 'panas', 'pandai', 'panik', 'panjang', 'patah', 'patuh', 'pecah', 'pedas', 'pegal', 'pelan-pelan', 'pelit', 'pendek', 'perih', 'pintar', 'pojok', 'puas', 'pucat', 'pulas', 'pulih', 'pusat', 'putus', 'ragu-ragu', 'rajin', 'ramah', 'ramai', 'rapi', 'rendah', 'riang', 'ribut', 'ringan', 'ringkas', 'ringsek', 'robek', 'roboh', 'runtuh', 'rusak', 'salah', 'sedih', 'sembuh', 'senang', 'suka', 'susah', 'tajam', 'takut', 'tengah', 'tepat', 'tidak ada', 'tidak apa-apa', 'tidak bisa', 'tidak boleh', 'tidak mau', 'tidak sama', 'tuntas', 'ujung', 'wajib', 'wangi', 'yakin', 'ajak', 'alami', 'ambil', 'angkat', 'angkut', 'antar', 'antri', 'atur', 'awas', 'ayun', 'baca', 'bangun', 'bantu', 'baring', 'basuh', 'batuk', 'bawa', 'bayar', 'belajar', 'belanja', 'beli', 'berangkat', 'berantem', 'berbisik', 'berdoa', 'bergerak', 'berhenti', 'berkelahi', 'berkembang', 'bermain', 'bernyanyi', 'bersin', 'berteman', 'bertengkar', 'bicara', 'bilang', 'bobok', 'bongkar', 'buang', 'buka', 'campur', 'cari', 'catat', 'cebok', 'cegah', 'celup', 'ceritakan', 'cicip', 'cium', 'coba', 'copot', 'coret', 'cubit', 'cuci', 'cuci tangan', 'cukur', 'curi', 'dagang', 'dandan', 'datang', 'dekap', 'dengar', 'diam', 'dorong', 'duduk', 'eek', 'fokus', 'gabung', 'ganti', 'gantian', 'gantung', 'garuk', 'genggam', 'geser', 'gigit', 'goreng', 'gosok', 'goyang', 'hapus', 'hias', 'hidup', 'hindari', 'hinggap', 'hisap', 'hitung', 'hormat', 'ikat', 'ikut', 'inap', 'incar', 'ingat', 'injak', 'isi', 'istirahat', 'jaga', 'jahit', 'jalan', 'jalin', 'jatuh', 'jawab', 'jemput', 'jemur', 'jenguk', 'jinjit', 'jongkok', 'jualan', 'kabur', 'kasih', 'kejar', 'keliling', 'keluar', 'kembali', 'kembalikan', 'keramas', 'ketawa', 'ketik', 'ketuk', 'kirim', 'kiss bye', 'kocok', 'kompres', 'kukus', 'kumpul', 'kunjung', 'kunyah', 'kupas', 'kuras', 'langkah', 'lapar', 'lari', 'lempar', 'lepas', 'lewat', 'lihat', 'lilit', 'lupa', 'main', 'maju', 'makan', 'mandi', 'masak', 'masuk', 'masukkan', 'mati', 'matikan', 'mau', 'melompat', 'membaca', 'membuat', 'menangis', 'mendengar', 'mengalir', 'menggosok', 'mengguyur', 'menghapus', 'menghias', 'menulis', 'menyapu', 'menyetir', 'menyikat', 'menyisir', 'mewarnai', 'minta', 'minta maaf', 'minum', 'mulai', 'mundur', 'muntah', 'naiki', 'nangis', 'nonton', 'ngalir', 'ngaca', 'nyala', 'naik', 'oles', 'oper', 'pakai', 'pamit', 'pancing', 'panggil', 'panjat', 'pantul', 'pasang', 'pasang', 'peluk', 'pergi', 'periksa', 'pesan', 'petik bunga', 'pijat', 'pilih', 'pindah', 'pinjam', 'pipis', 'poles', 'potong', 'puasa', 'puji', 'pukul', 'pulang', 'pungut', 'punya', 'pura-pura', 'putar', 'rapikan', 'rebut', 'renang', 'sakit', 'salaman', 'sayang', 'sembunyi', 'seorang', 'sholat', 'sikat', 'simpan', 'simpan', 'siram', 'stop', 'suntik', 'susun', 'tahan', 'tambah', 'tangkap', 'tarik', 'taruh', 'tekan', 'telan', 'tendang', 'tenggelam', 'tengkurap', 'tepuk tangan', 'terbang', 'teriak', 'terima kasih', 'terjun', 'tertawa', 'tirukan', 'tiup', 'tolong', 'tos', 'tumpah', 'tunggu', 'tunjuk', 'turun', 'tutup', 'ulangi', 'urutkan', 'usap', 'asyik', 'masalah', 'semangat', 'mengusir', 'meminta', 'tergeletak', 'akar', 'dia', 'dengan', 'adalah', 'untuk', 'sangat', 'ketika', 'langsung', 'menyelesaikan', 'pada', 'tersebut', 'bisa', 'abang.', 'adik.', 'adonan.', 'air.', 'air conditioner.', 'teman.', 'akuarium.', 'Al-Quran.', 'alamat.', 'alat.', 'alfabet.', 'alis.', 'Allah.', 'alpukat.', 'ambulan.', 'amplop.', 'anak.', 'anggur.', 'angin.', 'angin.', 'angklung.', 'angkot.', 'anjing.', 'anjing laut.', 'anting.', 'apartemen.', 'apel.', 'api.', 'apotek.', 'asap.', 'asbak.', 'atap.', 'awan.', 'ayah.', 'ayam goreng.', 'ayunan.', 'babi.', 'badak.', 'badan.', 'badut.', 'bajaj.', 'baju.', 'bak mandi.', 'balok.', 'balon.', 'ban.', 'bandara.', 'bando.', 'bangau.', 'banjir.', 'bank.', 'bantal.', 'banteng.', 'bapak.', 'bapak guru.', 'batang.', 'baterai.', 'batik.', 'batu.', 'bayangan.', 'bayi.', 'bebek.', 'becak.', 'bedak.', 'bel.', 'belalai.', 'belalang.', 'belimbing.', 'belut.', 'benang.', 'bendera.', 'bengkel.', 'beras.', 'beruang.', 'besi.', 'bibir.', 'biji.', 'binatang.', 'bintang.', 'bintang laut.', 'biola.', 'bioskop.', 'bis.', 'biskuit.', 'boks.', 'bola.', 'bolu.', 'boneka.', 'botol.', 'brokoli.', 'bros.', 'buah.', 'buaya.', 'bubur.', 'buku cerita.', 'buku gambar.', 'buku tulis.', 'bulan.', 'buncis.', 'bunda.', 'bunga.', 'burung.', 'cabai.', 'cangkir.', 'cangkul.', 'capit.', 'capung.', 'cas.', 'cat air.', 'celana.', 'cerita.', 'cermin.', 'cicak.', 'cincin.', 'closet.', 'coklat.', 'crayon.', 'cuka.', 'cumi-cumi.', 'dada.', 'dadu.', 'daging.', 'dagu.', 'danau.', 'dapur.', 'dasi.', 'dan.', 'delman.', 'desa.', 'dinding.', 'dinosaurus.', 'dispenser.', 'dokter.', 'dokter gigi.', 'domba.', 'dompet.', 'donat.', 'drum.', 'durian.', 'duyung.', 'ekor.', 'elang.', 'ember.', 'embun.', 'es batu.', 'es krim.', 'eskalator.', 'fajar.', 'film.', 'flu.', 'foto.', 'gajah.', 'gambar.', 'gantungan.', 'garam.', 'garasi.', 'garis.', 'garpu.', 'gaun.', 'gayung.', 'gedung.', 'gelang.', 'gelas.', 'gelembung.', 'gendang.', 'genteng.', 'gereja.', 'gergaji.', 'gigi.', 'giliran.', 'gitar.', 'gorila.', 'gula.', 'guling.', 'gunting.', 'gunung.', 'gurita.', 'guru.', 'gurun.', 'hadiah.', 'halaman.', 'hamster.', 'handphone.', 'handuk.', 'hantu.', 'hari.', 'harimau.', 'hati.', 'helikopter.', 'helm.', 'hewan.', 'hiasan.', 'hidung.', 'hotel.', 'hukuman.', 'huruf.', 'hutan.', 'ibu.', 'ibu dokter.', 'ibu guru.', 'ibu polisi.', 'ide.', 'iguana.', 'ikan.', 'ikat pinggang.', 'ikat rambut.', 'ikatan.', 'implan.', 'induk.', 'instruksi.', 'itik.', 'izin.', 'jagung.', 'jagung.', 'jajan.', 'Jakarta.', 'jaket.', 'jalan raya.', 'jam.', 'jam dinding.', 'jam tangan.', 'jambu air.', 'jambu biji.', 'janji.', 'jarak.', 'jari.', 'jaring.', 'jarum.', 'jas.', 'jembatan.', 'jempol.', 'jendela.', 'jenggot.', 'jepit rambut.', 'jepitan.', 'jerapah.', 'jerapah.', 'jeruk.', 'jilbab.', 'jurang.', 'jus.', 'kabel.', 'kabin.', 'kaca.', 'kaca mata.', 'kacang.', 'kadal.', 'kado.', 'kain.', 'kakak.', 'kakek.', 'kaki.', 'kalajengking.', 'kalender.', 'kaleng.', 'kalung.', 'kamar.', 'kamar mandi.', 'kambing.', 'kamera.', 'kancing.', 'kandang.', 'kantong.', 'kantor.', 'kantor polisi.', 'kantor pos.', 'kaos.', 'kaos kaki.', 'kapal.', 'karcis.', 'kardus.', 'karpet.', 'kartu.', 'kaset.', 'kasir.', 'kasur.', 'katak.', 'kayu.', 'kebakaran.', 'kebun binatang.', 'kecap.', 'kecelakaan.', 'kecoa.', 'keju.', 'kelapa.', 'keledai.', 'kelelawar.', 'kelengkeng.', 'kelereng.', 'kelinci.', 'kelingking.', 'keluarga.', 'kembalian.', 'kemeja.', 'kenari.', 'kendaraan.', 'kening.', 'keong.', 'kepala.', 'kepik.', 'kepiting.', 'kerang.', 'keranjang.', 'kerbau.', 'kereta api.', 'keripik.', 'kertas.', 'kerupuk.', 'keset.', 'kipas angin.', 'kiwi.', 'koala.', 'koin.', 'koki.', 'kol.', 'kolam.', 'kolam renang.', 'kolong.', 'komik.', 'komodo.', 'kompor.', 'komputer.', 'koper.', 'kopi.', 'koran.', 'kota.', 'kotak.', 'kotak pensil.', 'kotoran.', 'kran air.', 'kuas.', 'kubus.', 'kucing.', 'kuda.', 'kuda laut.', 'kuda nil.', 'kuku.', 'kulit.', 'kulkas.', 'kuman.', 'kumbang.', 'kumis.', 'kunci.', 'kuping.', 'kupu-kupu.', 'kura-kura.', 'kurma.', 'kursi.', 'kutek.', 'kutub.', 'laba-laba.', 'laci.', 'lagu.', 'laki-laki.', 'lalat.', 'lalu lintas.', 'lambang.', 'lampu.', 'lampu merah.', 'langit.', 'lantai.', 'lap.', 'lapangan.', 'laptop.', 'las.', 'latihan.', 'laut.', 'lebah.', 'lego.', 'leher.', 'lem.', 'lemak.', 'lemari.', 'lidah.', 'lilin.', 'lingkaran.', 'lipstik.', 'lirik.', 'lisan.', 'listrik.', 'lomba.', 'lonjong.', 'lubang.', 'luka.', 'lukisan.', 'lumba-lumba.', 'lumpur.', 'lutut.', 'maaf.', 'macan.', 'madu.', 'magnet.', 'mahkota.', 'mainan.', 'majalah.', 'makanan.', 'makaroni.', 'maling.', 'mall.', 'mama.', 'mangga.', 'manggis.', 'mangkok.', 'markisa.', 'masjid.', 'mata.', 'matahari.', 'meisis.', 'meja.', 'meja makan.', 'melon.', 'menara.', 'mentega.', 'mie.', 'minuman.', 'minyak goreng.', 'minyak kayu putih.', 'mobil.', 'monyet.', 'motor.', 'muka.', 'mukena.', 'mulut.', 'murid.', 'musik.', 'nama.', 'nama lengkap.', 'nama panggilan.', 'nama panjang.', 'nama pendek.', 'nanas.', 'nangka.', 'nasi.', 'nelayan.', 'nenek.', 'nyamuk.', 'obat.', 'obeng.', 'odol.', 'om.', 'oma.', 'ombak.', 'ongkos.', 'opa.', 'orang.', 'orang sakit.', 'orang tua.', 'orangutan.', 'otak.', 'oval.', 'oven.', 'pagar.', 'paha.', 'pajangan.', 'pakaian.', 'paku.', 'palu.', 'paman.', 'panah.', 'panca indera.', 'panci.', 'pancingan.', 'panda.', 'pantai.', 'pantat.', 'papan tulis.', 'paprika.', 'pasar.', 'pasir.', 'pasta gigi.', 'patung.', 'payung.', 'pedagang.', 'pelabuhan.', 'pelangi.', 'pelaut.', 'peluit.', 'pelukan.', 'pelukis.', 'pemadam kebakaran.', 'pemalu.', 'pembeli.', 'pena.', 'penari.', 'pencuri.', 'pendiam.', 'pengamen.', 'pengemis.', 'penggaris.', 'penghapus.', 'penjahat.', 'penjahit.', 'penjara.', 'pensil.', 'pensil warna.', 'penumpang.', 'penyanyi.', 'penyu.', 'pepaya.', 'perahu.', 'perawat.', 'perempuan.', 'perhatian.', 'perpustakaan.', 'persegi panjang.', 'perut.', 'pesanan.', 'pesanan.', 'pesawat.', 'pesawat terbang.', 'pesta.', 'petani.', 'peternakan.', 'petir.', 'petugas.', 'piala.', 'piano.', 'pil.', 'pilihan.', 'pilot.', 'pinggang.', 'pinguin.', 'pintu.', 'pipa.', 'pipi.', 'pir.', 'piring.', 'pisang.', 'pisau.', 'pistol.', 'pita.', 'pizza.', 'plastik.', 'pohon.', 'polisi.', 'pom bensin.', 'popok.', 'pos.', 'pramugari.', 'presiden.', 'profesi.', 'pulau.', 'pulpen.', 'pundak.', 'punggung.', 'pup.', 'puzzle.', 'radio.', 'rambut.', 'rambutan.', 'rel.', 'remote.', 'restoran.', 'roda.', 'rok.', 'roti.', 'ruang makan.', 'ruang tamu.', 'ruangan.', 'rubah.', 'rumah.', 'rumah makan.', 'rumah sakit.', 'rumput.', 'rusa.', 'sabun.', 'salon.', 'sampah.', 'sampo.', 'sandal.', 'sapi.', 'sawah.', 'sayap.', 'sayur.', 'sekolah.', 'sekop.', 'selai.', 'selang.', 'selang.', 'selimut.', 'semangka.', 'sembunyi.', 'semut.', 'sendok.', 'sepatu.', 'sepeda.', 'serangga.', 'serigala.', 'setir.', 'shower.', 'sihir.', 'sikat gigi.', 'siku.', 'singa.', 'singlet.', 'siput.', 'sirup.', 'sisir.', 'soda.', 'sofa.', 'sosis.', 'spion.', 'stasiun.', 'stiker.', 'stroberi.', 'suara.', 'sungai.', 'supir.', 'surat.', 'suster.', 'susu.', 'taksi.', 'tali.', 'taman.', 'taman bermain.', 'tambal.', 'tanah.', 'tanaman.', 'tanda.', 'tangga.', 'tangkai.', 'tangki.', 'tanjakan.', 'tante.', 'tapir.', 'taplak.', 'tart.', 'tas.', 'teh.', 'teko.', 'telapak tangan.', 'telepon.', 'telinga.', 'telunjuk.', 'telur.', 'teman.', 'tempat.', 'tempat makan.', 'tempat pensil.', 'tempat sampah.', 'tempat tidur.', 'tempat tinggal.', 'tenda.', 'tentara.', 'tepung.', 'teras.', 'terminal.', 'termos.', 'terompet.', 'tiang.', 'tiket.', 'tikungan.', 'tinta.', 'tirai.', 'tisu.', 'tivi.', 'TK.', 'toga.', 'toilet.', 'toko.', 'tomat.', 'tombol.', 'tongkat.', 'topi.', 'truk.', 'tugu.', 'Tuhan.', 'tulang.', 'tulisan.', 'tumbuhan.', 'tumpukan.', 'tupai.', 'turunan.', 'uang.', 'uap.', 'ubi.', 'ubur-ubur.', 'udang.', 'udara.', 'ukuran.', 'ular.', 'ulat.', 'umi.', 'umpan.', 'umur.', 'undangan.', 'unta.', 'usaha.', 'vas bunga.', 'wafer.', 'wajah.', 'wajan.', 'waktu.', 'wanita.', 'warna.', 'wastafel.', 'wihara.', 'wisata.', 'wisuda.', 'wortel.', 'youtube.', 'yoyo.', 'zebra.', 'awal.', 'atas.', 'asyik.', 'asin.', 'asam.', 'aman.', 'akhir.', 'ada.', 'bagus.', 'bahagia.', 'baik.', 'banyak.', 'baru.', 'basah.', 'basi.', 'becek.', 'beda.', 'bekas.', 'belakang.', 'bening.', 'berani.', 'berat.', 'berisik.', 'cair.', 'cantik.', 'capek.', 'cekatan.', 'celaka.', 'cemas.', 'cemberut.', 'cengeng.', 'cepat.', 'cerewet.', 'cermat.', 'ceroboh.', 'cukup.', 'curang.', 'dangkal.', 'dekat.', 'depan.', 'deras.', 'dingin.', 'dalam.', 'enak.', 'gagah.', 'galak.', 'gatal.', 'gaya.', 'gelap.', 'geli.', 'gelisah.', 'gembira.', 'gendut.', 'geram.', 'gersang.', 'gesit.', 'giat.', 'gosong.', 'habis.', 'halus.', 'hambar.', 'hancur.', 'hangat.', 'harum.', 'haus.', 'hebat.', 'hemat.', 'heran.', 'hilang.', 'ikal.', 'indah.', 'istimewa.', 'kaget.', 'kaku.', 'kalah.', 'kasar.', 'kasihan.', 'kecewa.', 'kecil.', 'kencang.', 'kenyang.', 'keras.', 'kering.', 'keriput.', 'keriting.', 'keruh.', 'kesal.', 'ketinggalan.', 'kikir.', 'kokoh.', 'komplit.', 'kosong.', 'kotor.', 'kuat.', 'kurang.', 'kurus.', 'lama.', 'lambat.', 'lancar.', 'larut.', 'lebar.', 'lelah.', 'leleh.', 'lemah.', 'lemas.', 'lembab.', 'lembek.', 'lembut.', 'lengket.', 'lentur.', 'lesu.', 'letih.', 'lezat.', 'licin.', 'lincah.', 'longgar.', 'luar.', 'luas.', 'lucu.', 'lunak.', 'lurus.', 'macet.', 'mahal.', 'malas.', 'malu.', 'mampu.', 'manis.', 'marah.', 'masam.', 'matang.', 'menang.', 'mentah.', 'mudah.', 'murah.', 'nakal.', 'ngantuk.', 'ngilu.', 'nyaman.', 'nyenyak.', 'nyuap.', 'ngumpet.', 'ompong.', 'padat.', 'pahit.', 'panas.', 'pandai.', 'panik.', 'panjang.', 'patah.', 'patuh.', 'pecah.', 'pedas.', 'pegal.', 'pelan-pelan.', 'pelit.', 'pendek.', 'perih.', 'pintar.', 'pojok.', 'puas.', 'pucat.', 'pulas.', 'pulih.', 'pusat.', 'putus.', 'ragu-ragu.', 'rajin.', 'ramah.', 'ramai.', 'rapi.', 'rendah.', 'riang.', 'ribut.', 'ringan.', 'ringkas.', 'ringsek.', 'robek.', 'roboh.', 'runtuh.', 'rusak.', 'salah.', 'sedih.', 'sembuh.', 'senang.', 'suka.', 'susah.', 'tajam.', 'takut.', 'tengah.', 'tepat.', 'tidak ada.', 'tidak apa-apa.', 'tidak bisa.', 'tidak boleh.', 'tidak mau.', 'tidak sama.', 'tuntas.', 'ujung.', 'wajib.', 'wangi.', 'yakin.', 'ajak.', 'alami.', 'ambil.', 'angkat.', 'angkut.', 'antar.', 'antri.', 'atur.', 'awas.', 'ayun.', 'baca.', 'bangun.', 'bantu.', 'baring.', 'basuh.', 'batuk.', 'bawa.', 'bayar.', 'belajar.', 'belanja.', 'beli.', 'berangkat.', 'berantem.', 'berbisik.', 'berdoa.', 'bergerak.', 'berhenti.', 'berkelahi.', 'berkembang.', 'bermain.', 'bernyanyi.', 'bersin.', 'berteman.', 'bertengkar.', 'bicara.', 'bilang.', 'bobok.', 'bongkar.', 'buang.', 'buka.', 'campur.', 'cari.', 'catat.', 'cebok.', 'cegah.', 'celup.', 'ceritakan.', 'cicip.', 'cium.', 'coba.', 'copot.', 'coret.', 'cubit.', 'cuci.', 'cuci tangan.', 'cukur.', 'curi.', 'dagang.', 'dandan.', 'datang.', 'dekap.', 'dengar.', 'diam.', 'dorong.', 'duduk.', 'eek.', 'fokus.', 'gabung.', 'ganti.', 'gantian.', 'gantung.', 'garuk.', 'genggam.', 'geser.', 'gigit.', 'goreng.', 'gosok.', 'goyang.', 'hapus.', 'hias.', 'hidup.', 'hindari.', 'hinggap.', 'hisap.', 'hitung.', 'hormat.', 'ikat.', 'ikut.', 'inap.', 'incar.', 'ingat.', 'injak.', 'isi.', 'istirahat.', 'jaga.', 'jahit.', 'jalan.', 'jalin.', 'jatuh.', 'jawab.', 'jemput.', 'jemur.', 'jenguk.', 'jinjit.', 'jongkok.', 'jualan.', 'kabur.', 'kasih.', 'kejar.', 'keliling.', 'keluar.', 'kembali.', 'kembalikan.', 'keramas.', 'ketawa.', 'ketik.', 'ketuk.', 'kirim.', 'kiss bye.', 'kocok.', 'kompres.', 'kukus.', 'kumpul.', 'kunjung.', 'kunyah.', 'kupas.', 'kuras.', 'langkah.', 'lapar.', 'lari.', 'lempar.', 'lepas.', 'lewat.', 'lihat.', 'lilit.', 'lupa.', 'main.', 'maju.', 'makan.', 'mandi.', 'masak.', 'masuk.', 'masukkan.', 'mati.', 'matikan.', 'mau.', 'melompat.', 'membaca.', 'membuat.', 'menangis.', 'mendengar.', 'mengalir.', 'menggosok.', 'mengguyur.', 'menghapus.', 'menghias.', 'menulis.', 'menyapu.', 'menyetir.', 'menyikat.', 'menyisir.', 'mewarnai.', 'minta.', 'minta maaf.', 'minum.', 'mulai.', 'mundur.', 'muntah.', 'naiki.', 'nangis.', 'nonton.', 'ngalir.', 'ngaca.', 'nyala.', 'naik.', 'oles.', 'oper.', 'pakai.', 'pamit.', 'pancing.', 'panggil.', 'panjat.', 'pantul.', 'pasang.', 'pasang.', 'peluk.', 'pergi.', 'periksa.', 'pesan.', 'petik bunga.', 'pijat.', 'pilih.', 'pindah.', 'pinjam.', 'pipis.', 'poles.', 'potong.', 'puasa.', 'puji.', 'pukul.', 'pulang.', 'pungut.', 'punya.', 'pura-pura.', 'putar.', 'rapikan.', 'rebut.', 'renang.', 'sakit.', 'salaman.', 'sayang.', 'sembunyi.', 'seorang.', 'sholat.', 'sikat.', 'simpan.', 'simpan.', 'siram.', 'stop.', 'suntik.', 'susun.', 'tahan.', 'tambah.', 'tangkap.', 'tarik.', 'taruh.', 'tekan.', 'telan.', 'tendang.', 'tenggelam.', 'tengkurap.', 'tepuk tangan.', 'terbang.', 'teriak.', 'terima kasih.', 'terjun.', 'tertawa.', 'tirukan.', 'tiup.', 'tolong.', 'tos.', 'tumpah.', 'tunggu.', 'tunjuk.', 'turun.', 'tutup.', 'ulangi.', 'urutkan.', 'usap.', 'asyik.', 'masalah.', 'semangat.', 'mengusir.', 'meminta.', 'tergeletak.', 'akar.', 'dia.', 'dengan.', 'adalah.', 'untuk.', 'sangat.', 'ketika.', 'langsung.', 'menyelesaikan.', 'pada.', 'tersebut.', 'bisa.', 'abang,', 'adik,', 'adonan,', 'air,', 'air conditioner,', 'teman,', 'akuarium,', 'Al-Quran,', 'alamat,', 'alat,', 'alfabet,', 'alis,', 'Allah,', 'alpukat,', 'ambulan,', 'amplop,', 'anak,', 'anggur,', 'angin,', 'angin,', 'angklung,', 'angkot,', 'anjing,', 'anjing laut,', 'anting,', 'apartemen,', 'apel,', 'api,', 'apotek,', 'asap,', 'asbak,', 'atap,', 'awan,', 'ayah,', 'ayam goreng,', 'ayunan,', 'babi,', 'badak,', 'badan,', 'badut,', 'bajaj,', 'baju,', 'bak mandi,', 'balok,', 'balon,', 'ban,', 'bandara,', 'bando,', 'bangau,', 'banjir,', 'bank,', 'bantal,', 'banteng,', 'bapak,', 'bapak guru,', 'batang,', 'baterai,', 'batik,', 'batu,', 'bayangan,', 'bayi,', 'bebek,', 'becak,', 'bedak,', 'bel,', 'belalai,', 'belalang,', 'belimbing,', 'belut,', 'benang,', 'bendera,', 'bengkel,', 'beras,', 'beruang,', 'besi,', 'bibir,', 'biji,', 'binatang,', 'bintang,', 'bintang laut,', 'biola,', 'bioskop,', 'bis,', 'biskuit,', 'boks,', 'bola,', 'bolu,', 'boneka,', 'botol,', 'brokoli,', 'bros,', 'buah,', 'buaya,', 'bubur,', 'buku cerita,', 'buku gambar,', 'buku tulis,', 'bulan,', 'buncis,', 'bunda,', 'bunga,', 'burung,', 'cabai,', 'cangkir,', 'cangkul,', 'capit,', 'capung,', 'cas,', 'cat air,', 'celana,', 'cerita,', 'cermin,', 'cicak,', 'cincin,', 'closet,', 'coklat,', 'crayon,', 'cuka,', 'cumi-cumi,', 'dada,', 'dadu,', 'daging,', 'dagu,', 'danau,', 'dapur,', 'dasi,', 'dan,', 'delman,', 'desa,', 'dinding,', 'dinosaurus,', 'dispenser,', 'dokter,', 'dokter gigi,', 'domba,', 'dompet,', 'donat,', 'drum,', 'durian,', 'duyung,', 'ekor,', 'elang,', 'ember,', 'embun,', 'es batu,', 'es krim,', 'eskalator,', 'fajar,', 'film,', 'flu,', 'foto,', 'gajah,', 'gambar,', 'gantungan,', 'garam,', 'garasi,', 'garis,', 'garpu,', 'gaun,', 'gayung,', 'gedung,', 'gelang,', 'gelas,', 'gelembung,', 'gendang,', 'genteng,', 'gereja,', 'gergaji,', 'gigi,', 'giliran,', 'gitar,', 'gorila,', 'gula,', 'guling,', 'gunting,', 'gunung,', 'gurita,', 'guru,', 'gurun,', 'hadiah,', 'halaman,', 'hamster,', 'handphone,', 'handuk,', 'hantu,', 'hari,', 'harimau,', 'hati,', 'helikopter,', 'helm,', 'hewan,', 'hiasan,', 'hidung,', 'hotel,', 'hukuman,', 'huruf,', 'hutan,', 'ibu,', 'ibu dokter,', 'ibu guru,', 'ibu polisi,', 'ide,', 'iguana,', 'ikan,', 'ikat pinggang,', 'ikat rambut,', 'ikatan,', 'implan,', 'induk,', 'instruksi,', 'itik,', 'izin,', 'jagung,', 'jagung,', 'jajan,', 'Jakarta,', 'jaket,', 'jalan raya,', 'jam,', 'jam dinding,', 'jam tangan,', 'jambu air,', 'jambu biji,', 'janji,', 'jarak,', 'jari,', 'jaring,', 'jarum,', 'jas,', 'jembatan,', 'jempol,', 'jendela,', 'jenggot,', 'jepit rambut,', 'jepitan,', 'jerapah,', 'jerapah,', 'jeruk,', 'jilbab,', 'jurang,', 'jus,', 'kabel,', 'kabin,', 'kaca,', 'kaca mata,', 'kacang,', 'kadal,', 'kado,', 'kain,', 'kakak,', 'kakek,', 'kaki,', 'kalajengking,', 'kalender,', 'kaleng,', 'kalung,', 'kamar,', 'kamar mandi,', 'kambing,', 'kamera,', 'kancing,', 'kandang,', 'kantong,', 'kantor,', 'kantor polisi,', 'kantor pos,', 'kaos,', 'kaos kaki,', 'kapal,', 'karcis,', 'kardus,', 'karpet,', 'kartu,', 'kaset,', 'kasir,', 'kasur,', 'katak,', 'kayu,', 'kebakaran,', 'kebun binatang,', 'kecap,', 'kecelakaan,', 'kecoa,', 'keju,', 'kelapa,', 'keledai,', 'kelelawar,', 'kelengkeng,', 'kelereng,', 'kelinci,', 'kelingking,', 'keluarga,', 'kembalian,', 'kemeja,', 'kenari,', 'kendaraan,', 'kening,', 'keong,', 'kepala,', 'kepik,', 'kepiting,', 'kerang,', 'keranjang,', 'kerbau,', 'kereta api,', 'keripik,', 'kertas,', 'kerupuk,', 'keset,', 'kipas angin,', 'kiwi,', 'koala,', 'koin,', 'koki,', 'kol,', 'kolam,', 'kolam renang,', 'kolong,', 'komik,', 'komodo,', 'kompor,', 'komputer,', 'koper,', 'kopi,', 'koran,', 'kota,', 'kotak,', 'kotak pensil,', 'kotoran,', 'kran air,', 'kuas,', 'kubus,', 'kucing,', 'kuda,', 'kuda laut,', 'kuda nil,', 'kuku,', 'kulit,', 'kulkas,', 'kuman,', 'kumbang,', 'kumis,', 'kunci,', 'kuping,', 'kupu-kupu,', 'kura-kura,', 'kurma,', 'kursi,', 'kutek,', 'kutub,', 'laba-laba,', 'laci,', 'lagu,', 'laki-laki,', 'lalat,', 'lalu lintas,', 'lambang,', 'lampu,', 'lampu merah,', 'langit,', 'lantai,', 'lap,', 'lapangan,', 'laptop,', 'las,', 'latihan,', 'laut,', 'lebah,', 'lego,', 'leher,', 'lem,', 'lemak,', 'lemari,', 'lidah,', 'lilin,', 'lingkaran,', 'lipstik,', 'lirik,', 'lisan,', 'listrik,', 'lomba,', 'lonjong,', 'lubang,', 'luka,', 'lukisan,', 'lumba-lumba,', 'lumpur,', 'lutut,', 'maaf,', 'macan,', 'madu,', 'magnet,', 'mahkota,', 'mainan,', 'majalah,', 'makanan,', 'makaroni,', 'maling,', 'mall,', 'mama,', 'mangga,', 'manggis,', 'mangkok,', 'markisa,', 'masjid,', 'mata,', 'matahari,', 'meisis,', 'meja,', 'meja makan,', 'melon,', 'menara,', 'mentega,', 'mie,', 'minuman,', 'minyak goreng,', 'minyak kayu putih,', 'mobil,', 'monyet,', 'motor,', 'muka,', 'mukena,', 'mulut,', 'murid,', 'musik,', 'nama,', 'nama lengkap,', 'nama panggilan,', 'nama panjang,', 'nama pendek,', 'nanas,', 'nangka,', 'nasi,', 'nelayan,', 'nenek,', 'nyamuk,', 'obat,', 'obeng,', 'odol,', 'om,', 'oma,', 'ombak,', 'ongkos,', 'opa,', 'orang,', 'orang sakit,', 'orang tua,', 'orangutan,', 'otak,', 'oval,', 'oven,', 'pagar,', 'paha,', 'pajangan,', 'pakaian,', 'paku,', 'palu,', 'paman,', 'panah,', 'panca indera,', 'panci,', 'pancingan,', 'panda,', 'pantai,', 'pantat,', 'papan tulis,', 'paprika,', 'pasar,', 'pasir,', 'pasta gigi,', 'patung,', 'payung,', 'pedagang,', 'pelabuhan,', 'pelangi,', 'pelaut,', 'peluit,', 'pelukan,', 'pelukis,', 'pemadam kebakaran,', 'pemalu,', 'pembeli,', 'pena,', 'penari,', 'pencuri,', 'pendiam,', 'pengamen,', 'pengemis,', 'penggaris,', 'penghapus,', 'penjahat,', 'penjahit,', 'penjara,', 'pensil,', 'pensil warna,', 'penumpang,', 'penyanyi,', 'penyu,', 'pepaya,', 'perahu,', 'perawat,', 'perempuan,', 'perhatian,', 'perpustakaan,', 'persegi panjang,', 'perut,', 'pesanan,', 'pesanan,', 'pesawat,', 'pesawat terbang,', 'pesta,', 'petani,', 'peternakan,', 'petir,', 'petugas,', 'piala,', 'piano,', 'pil,', 'pilihan,', 'pilot,', 'pinggang,', 'pinguin,', 'pintu,', 'pipa,', 'pipi,', 'pir,', 'piring,', 'pisang,', 'pisau,', 'pistol,', 'pita,', 'pizza,', 'plastik,', 'pohon,', 'polisi,', 'pom bensin,', 'popok,', 'pos,', 'pramugari,', 'presiden,', 'profesi,', 'pulau,', 'pulpen,', 'pundak,', 'punggung,', 'pup,', 'puzzle,', 'radio,', 'rambut,', 'rambutan,', 'rel,', 'remote,', 'restoran,', 'roda,', 'rok,', 'roti,', 'ruang makan,', 'ruang tamu,', 'ruangan,', 'rubah,', 'rumah,', 'rumah makan,', 'rumah sakit,', 'rumput,', 'rusa,', 'sabun,', 'salon,', 'sampah,', 'sampo,', 'sandal,', 'sapi,', 'sawah,', 'sayap,', 'sayur,', 'sekolah,', 'sekop,', 'selai,', 'selang,', 'selang,', 'selimut,', 'semangka,', 'sembunyi,', 'semut,', 'sendok,', 'sepatu,', 'sepeda,', 'serangga,', 'serigala,', 'setir,', 'shower,', 'sihir,', 'sikat gigi,', 'siku,', 'singa,', 'singlet,', 'siput,', 'sirup,', 'sisir,', 'soda,', 'sofa,', 'sosis,', 'spion,', 'stasiun,', 'stiker,', 'stroberi,', 'suara,', 'sungai,', 'supir,', 'surat,', 'suster,', 'susu,', 'taksi,', 'tali,', 'taman,', 'taman bermain,', 'tambal,', 'tanah,', 'tanaman,', 'tanda,', 'tangga,', 'tangkai,', 'tangki,', 'tanjakan,', 'tante,', 'tapir,', 'taplak,', 'tart,', 'tas,', 'teh,', 'teko,', 'telapak tangan,', 'telepon,', 'telinga,', 'telunjuk,', 'telur,', 'teman,', 'tempat,', 'tempat makan,', 'tempat pensil,', 'tempat sampah,', 'tempat tidur,', 'tempat tinggal,', 'tenda,', 'tentara,', 'tepung,', 'teras,', 'terminal,', 'termos,', 'terompet,', 'tiang,', 'tiket,', 'tikungan,', 'tinta,', 'tirai,', 'tisu,', 'tivi,', 'TK,', 'toga,', 'toilet,', 'toko,', 'tomat,', 'tombol,', 'tongkat,', 'topi,', 'truk,', 'tugu,', 'Tuhan,', 'tulang,', 'tulisan,', 'tumbuhan,', 'tumpukan,', 'tupai,', 'turunan,', 'uang,', 'uap,', 'ubi,', 'ubur-ubur,', 'udang,', 'udara,', 'ukuran,', 'ular,', 'ulat,', 'umi,', 'umpan,', 'umur,', 'undangan,', 'unta,', 'usaha,', 'vas bunga,', 'wafer,', 'wajah,', 'wajan,', 'waktu,', 'wanita,', 'warna,', 'wastafel,', 'wihara,', 'wisata,', 'wisuda,', 'wortel,', 'youtube,', 'yoyo,', 'zebra,', 'awal,', 'atas,', 'asyik,', 'asin,', 'asam,', 'aman,', 'akhir,', 'ada,', 'bagus,', 'bahagia,', 'baik,', 'banyak,', 'baru,', 'basah,', 'basi,', 'becek,', 'beda,', 'bekas,', 'belakang,', 'bening,', 'berani,', 'berat,', 'berisik,', 'cair,', 'cantik,', 'capek,', 'cekatan,', 'celaka,', 'cemas,', 'cemberut,', 'cengeng,', 'cepat,', 'cerewet,', 'cermat,', 'ceroboh,', 'cukup,', 'curang,', 'dangkal,', 'dekat,', 'depan,', 'deras,', 'dingin,', 'dalam,', 'enak,', 'gagah,', 'galak,', 'gatal,', 'gaya,', 'gelap,', 'geli,', 'gelisah,', 'gembira,', 'gendut,', 'geram,', 'gersang,', 'gesit,', 'giat,', 'gosong,', 'habis,', 'halus,', 'hambar,', 'hancur,', 'hangat,', 'harum,', 'haus,', 'hebat,', 'hemat,', 'heran,', 'hilang,', 'ikal,', 'indah,', 'istimewa,', 'kaget,', 'kaku,', 'kalah,', 'kasar,', 'kasihan,', 'kecewa,', 'kecil,', 'kencang,', 'kenyang,', 'keras,', 'kering,', 'keriput,', 'keriting,', 'keruh,', 'kesal,', 'ketinggalan,', 'kikir,', 'kokoh,', 'komplit,', 'kosong,', 'kotor,', 'kuat,', 'kurang,', 'kurus,', 'lama,', 'lambat,', 'lancar,', 'larut,', 'lebar,', 'lelah,', 'leleh,', 'lemah,', 'lemas,', 'lembab,', 'lembek,', 'lembut,', 'lengket,', 'lentur,', 'lesu,', 'letih,', 'lezat,', 'licin,', 'lincah,', 'longgar,', 'luar,', 'luas,', 'lucu,', 'lunak,', 'lurus,', 'macet,', 'mahal,', 'malas,', 'malu,', 'mampu,', 'manis,', 'marah,', 'masam,', 'matang,', 'menang,', 'mentah,', 'mudah,', 'murah,', 'nakal,', 'ngantuk,', 'ngilu,', 'nyaman,', 'nyenyak,', 'nyuap,', 'ngumpet,', 'ompong,', 'padat,', 'pahit,', 'panas,', 'pandai,', 'panik,', 'panjang,', 'patah,', 'patuh,', 'pecah,', 'pedas,', 'pegal,', 'pelan-pelan,', 'pelit,', 'pendek,', 'perih,', 'pintar,', 'pojok,', 'puas,', 'pucat,', 'pulas,', 'pulih,', 'pusat,', 'putus,', 'ragu-ragu,', 'rajin,', 'ramah,', 'ramai,', 'rapi,', 'rendah,', 'riang,', 'ribut,', 'ringan,', 'ringkas,', 'ringsek,', 'robek,', 'roboh,', 'runtuh,', 'rusak,', 'salah,', 'sedih,', 'sembuh,', 'senang,', 'suka,', 'susah,', 'tajam,', 'takut,', 'tengah,', 'tepat,', 'tidak ada,', 'tidak apa-apa,', 'tidak bisa,', 'tidak boleh,', 'tidak mau,', 'tidak sama,', 'tuntas,', 'ujung,', 'wajib,', 'wangi,', 'yakin,', 'ajak,', 'alami,', 'ambil,', 'angkat,', 'angkut,', 'antar,', 'antri,', 'atur,', 'awas,', 'ayun,', 'baca,', 'bangun,', 'bantu,', 'baring,', 'basuh,', 'batuk,', 'bawa,', 'bayar,', 'belajar,', 'belanja,', 'beli,', 'berangkat,', 'berantem,', 'berbisik,', 'berdoa,', 'bergerak,', 'berhenti,', 'berkelahi,', 'berkembang,', 'bermain,', 'bernyanyi,', 'bersin,', 'berteman,', 'bertengkar,', 'bicara,', 'bilang,', 'bobok,', 'bongkar,', 'buang,', 'buka,', 'campur,', 'cari,', 'catat,', 'cebok,', 'cegah,', 'celup,', 'ceritakan,', 'cicip,', 'cium,', 'coba,', 'copot,', 'coret,', 'cubit,', 'cuci,', 'cuci tangan,', 'cukur,', 'curi,', 'dagang,', 'dandan,', 'datang,', 'dekap,', 'dengar,', 'diam,', 'dorong,', 'duduk,', 'eek,', 'fokus,', 'gabung,', 'ganti,', 'gantian,', 'gantung,', 'garuk,', 'genggam,', 'geser,', 'gigit,', 'goreng,', 'gosok,', 'goyang,', 'hapus,', 'hias,', 'hidup,', 'hindari,', 'hinggap,', 'hisap,', 'hitung,', 'hormat,', 'ikat,', 'ikut,', 'inap,', 'incar,', 'ingat,', 'injak,', 'isi,', 'istirahat,', 'jaga,', 'jahit,', 'jalan,', 'jalin,', 'jatuh,', 'jawab,', 'jemput,', 'jemur,', 'jenguk,', 'jinjit,', 'jongkok,', 'jualan,', 'kabur,', 'kasih,', 'kejar,', 'keliling,', 'keluar,', 'kembali,', 'kembalikan,', 'keramas,', 'ketawa,', 'ketik,', 'ketuk,', 'kirim,', 'kiss bye,', 'kocok,', 'kompres,', 'kukus,', 'kumpul,', 'kunjung,', 'kunyah,', 'kupas,', 'kuras,', 'langkah,', 'lapar,', 'lari,', 'lempar,', 'lepas,', 'lewat,', 'lihat,', 'lilit,', 'lupa,', 'main,', 'maju,', 'makan,', 'mandi,', 'masak,', 'masuk,', 'masukkan,', 'mati,', 'matikan,', 'mau,', 'melompat,', 'membaca,', 'membuat,', 'menangis,', 'mendengar,', 'mengalir,', 'menggosok,', 'mengguyur,', 'menghapus,', 'menghias,', 'menulis,', 'menyapu,', 'menyetir,', 'menyikat,', 'menyisir,', 'mewarnai,', 'minta,', 'minta maaf,', 'minum,', 'mulai,', 'mundur,', 'muntah,', 'naiki,', 'nangis,', 'nonton,', 'ngalir,', 'ngaca,', 'nyala,', 'naik,', 'oles,', 'oper,', 'pakai,', 'pamit,', 'pancing,', 'panggil,', 'panjat,', 'pantul,', 'pasang,', 'pasang,', 'peluk,', 'pergi,', 'periksa,', 'pesan,', 'petik bunga,', 'pijat,', 'pilih,', 'pindah,', 'pinjam,', 'pipis,', 'poles,', 'potong,', 'puasa,', 'puji,', 'pukul,', 'pulang,', 'pungut,', 'punya,', 'pura-pura,', 'putar,', 'rapikan,', 'rebut,', 'renang,', 'sakit,', 'salaman,', 'sayang,', 'sembunyi,', 'seorang,', 'sholat,', 'sikat,', 'simpan,', 'simpan,', 'siram,', 'stop,', 'suntik,', 'susun,', 'tahan,', 'tambah,', 'tangkap,', 'tarik,', 'taruh,', 'tekan,', 'telan,', 'tendang,', 'tenggelam,', 'tengkurap,', 'tepuk tangan,', 'terbang,', 'teriak,', 'terima kasih,', 'terjun,', 'tertawa,', 'tirukan,', 'tiup,', 'tolong,', 'tos,', 'tumpah,', 'tunggu,', 'tunjuk,', 'turun,', 'tutup,', 'ulangi,', 'urutkan,', 'usap,', 'asyik,', 'masalah,', 'semangat,', 'mengusir,', 'meminta,', 'tergeletak,', 'akar,', 'dia,', 'dengan,', 'adalah,', 'untuk,', 'sangat,', 'ketika,', 'langsung,', 'menyelesaikan,', 'pada,', 'tersebut,', 'bisa,']\n",
            "Total dataset yang tersedia: 3513\n"
          ]
        }
      ]
    },
    {
      "cell_type": "markdown",
      "source": [],
      "metadata": {
        "id": "1ctd-pIxw0R_"
      }
    },
    {
      "cell_type": "code",
      "source": [
        "pdf_path = '/content/typo_dokumen2.pdf'\n",
        "\n",
        "def extract_text_from_first_page(pdf_path):\n",
        "    # Open the PDF file\n",
        "    document = fitz.open(pdf_path)\n",
        "\n",
        "    # Extract text from the first page\n",
        "    first_page = document[0]\n",
        "    text = first_page.get_text()\n",
        "\n",
        "    return text\n",
        "\n",
        "# Extract and print the text from the first page\n",
        "document_text = extract_text_from_first_page(pdf_path)\n",
        "print(document_text)"
      ],
      "metadata": {
        "colab": {
          "base_uri": "https://localhost:8080/"
        },
        "id": "PdpDnkAIuPea",
        "outputId": "2f15ea19-5020-4f89-d0a2-db35fdce131a"
      },
      "execution_count": null,
      "outputs": [
        {
          "output_type": "stream",
          "name": "stdout",
          "text": [
            "Di suatu des*a yang damai, hiduplah seorang petani bernama Pak Budi. Setiap hari, Pak Budi pergi \n",
            "ke sawah untuk menanam padi dan merawat tanaman. Suatu hari, saat sedang asik bekerja, Pak \n",
            "Budi menyadari bahwa cangkulnya hilag. Dia pun mencari ke sana-sini, namun cangkulnya tidak \n",
            "juga ketemu. Dalam kebingungan, Pak Budi memutuskan untuk pulang dan istirahit sejenak. \n",
            "Sesampainya di rumah, dia melihat cangkul tersebut tergelatak di bawah pohon mangga. Pak Budi \n",
            "pun tersenyum dan tertawa, menyadari bahwa dia lupa membawanya ke sawah pagi itu. \n",
            " \n",
            "Keesokan harinya, Pak Budi kembali ke sawah dengan semang*t baru. Dia menyiapkan semua \n",
            "peralatan dan mulai bekerja. Namun, saat sedang menanam padi, dia menyadari ada yang aneh \n",
            "dengan salah satu tanaman padi. Ternyata, ada hama yang menyerang tanaman tersebut. Pak Budi \n",
            "segera mencari cara untuk mengusir hama itu. Dia menghubungi teman yang merupakan seorang \n",
            "ahli pertanian untuk memint*a bantuan. Dengan bantuan teman, Pak Budi berhasil mengatasi \n",
            "masalah tersebut dan tanaman padi tumbuh subur. Pak Budi sangat bersyukur dan bertekad untuk \n",
            "lebih teliti lagi dalam merawat tanamannya agar kejadian serupa tidak terulang. \n",
            "\n"
          ]
        }
      ]
    },
    {
      "cell_type": "code",
      "source": [
        "# def detect_and_correct_typos(text, word_list, threshold=0.93):\n",
        "#     words = text.split()\n",
        "#     corrected_text = []\n",
        "#     for word in words:\n",
        "#         best_match = word\n",
        "#         highest_similarity = 0\n",
        "#         for dict_word in word_list:\n",
        "#             similarity = jaro_winkler_similarity(word, dict_word)\n",
        "#             if similarity > highest_similarity:\n",
        "#                 highest_similarity = similarity\n",
        "#                 best_match = dict_word\n",
        "#         if highest_similarity >= threshold:\n",
        "#             corrected_text.append(f\"{best_match}.'\") if(word[0] == '.') else corrected_text.append(best_match)\n",
        "#         else:\n",
        "#             corrected_text.append(f\"{word}.\") if(word[0] == '.') else corrected_text.append(word)\n",
        "#     return ' '.join(corrected_text)\n",
        "\n",
        "# corrected_text = detect_and_correct_typos(document_text, word_list)\n",
        "# print(\"Corrected Text:\", corrected_text)"
      ],
      "metadata": {
        "id": "40i4KyVXuS8K"
      },
      "execution_count": null,
      "outputs": []
    },
    {
      "cell_type": "code",
      "source": [
        "def detect_typos(text, word_list, threshold=0.93):\n",
        "    words = text.split()\n",
        "    typos = {}\n",
        "    for word in words:\n",
        "        best_match = word\n",
        "        highest_similarity = 0\n",
        "        for dict_word in word_list:\n",
        "            similarity = jaro_winkler_similarity(word, dict_word)\n",
        "            if similarity > highest_similarity:\n",
        "                highest_similarity = similarity\n",
        "                best_match = dict_word\n",
        "        if highest_similarity < threshold:\n",
        "            typos[word] = best_match\n",
        "    return typos\n",
        "\n",
        "typos = detect_typos(document_text, word_list)\n",
        "print(\"Detected Typos and Corrections:\", typos)"
      ],
      "metadata": {
        "colab": {
          "base_uri": "https://localhost:8080/"
        },
        "id": "dQevW2z4Kjgv",
        "outputId": "9bea7224-2447-4d1b-d97a-21d72bbec10f"
      },
      "execution_count": null,
      "outputs": [
        {
          "output_type": "stream",
          "name": "stdout",
          "text": [
            "Detected Typos and Corrections: {'Di': 'air', 'suatu': 'surat', 'yang': 'goyang', 'damai,': 'ramai,', 'hiduplah': 'hidup', 'bernama': 'berantem', 'Pak': 'adik', 'Budi.': 'ubi.', 'Setiap': 'ketika', 'Budi': 'ubi', 'ke': 'keju', 'menanam': 'menara', 'padi': 'pandai', 'merawat': 'perawat', 'Suatu': 'batu', 'saat': 'sangat', 'sedang': 'selang', 'bekerja,': 'bekas,', 'menyadari': 'menara', 'Dia': 'dia', 'pun': 'punya', 'mencari': 'menara', 'sana-sini,': 'sandal,', 'namun': 'nama', 'tidak': 'tidak ada', 'juga': 'jaga', 'ketemu.': 'ketuk.', 'Dalam': 'dalam', 'kebingungan,': 'kebun binatang,', 'memutuskan': 'membuat', 'sejenak.': 'enak.', 'Sesampainya': 'sapi', 'di': 'dia', 'melihat': 'lihat', 'tersenyum': 'tersebut', 'membawanya': 'membaca', 'pagi': 'panggil', 'itu.': 'pintu.', 'Keesokan': 'eek', 'harinya,': 'hari,', 'menyiapkan': 'menyelesaikan', 'semua': 'semut', 'peralatan': 'perawat', 'bekerja.': 'bekas.', 'Namun,': 'gaun,', 'padi,': 'pandai,', 'aneh': 'panah', 'satu': 'sepatu', 'padi.': 'pandai.', 'Ternyata,': 'tentara,', 'hama': 'hambar', 'menyerang': 'menang', 'segera': 'geser', 'cara': 'bicara', 'menghubungi': 'mengusir', 'merupakan': 'menara', 'ahli': 'alis', 'pertanian': 'petani', 'Dengan': 'dengan', 'berhasil': 'beras', 'mengatasi': 'menghias', 'subur.': 'susu.', 'bersyukur': 'berisik', 'bertekad': 'bertengkar', 'lebih': 'lebah', 'teliti': 'telinga', 'lagi': 'langit', 'kejadian': 'kejar', 'serupa': 'sepatu'}\n"
          ]
        }
      ]
    },
    {
      "cell_type": "code",
      "source": [
        "def create_pdf_with_typos(typos, output_path):\n",
        "    doc = SimpleDocTemplate(output_path, pagesize=A4)\n",
        "    styles = getSampleStyleSheet()\n",
        "    story = []\n",
        "    story.append(Paragraph(\"Detected Typos\", styles['Title']))\n",
        "    story.append(Spacer(1, 12))\n",
        "    for typo in typos:\n",
        "        story.append(Paragraph(typo, styles['Normal']))\n",
        "        story.append(Spacer(1, 12))\n",
        "    doc.build(story)\n",
        "\n",
        "output_pdf_path = '/content/typos_report.pdf'\n",
        "create_pdf_with_typos(typos, output_pdf_path)\n",
        "print(f\"PDF report created at {output_pdf_path}\")"
      ],
      "metadata": {
        "colab": {
          "base_uri": "https://localhost:8080/"
        },
        "id": "Xcrwq3fxKoVF",
        "outputId": "c3e9de3e-06ee-4d1a-8ffd-b298bffb946c"
      },
      "execution_count": null,
      "outputs": [
        {
          "output_type": "stream",
          "name": "stdout",
          "text": [
            "PDF report created at /content/typos_report.pdf\n"
          ]
        }
      ]
    },
    {
      "cell_type": "code",
      "source": [
        "# Membuat PDF baru dengan format asli\n",
        "pdf_filename = \"/content/corrected_document.pdf\"\n",
        "document = SimpleDocTemplate(pdf_filename, pagesize=A4)\n",
        "\n",
        "# Define styles\n",
        "styles = getSampleStyleSheet()\n",
        "normal_style = styles['Normal']\n",
        "\n",
        "# Split content into paragraphs\n",
        "paragraphs = corrected_text.split('\\n')\n",
        "\n",
        "# Create a list to hold the story\n",
        "story = []\n",
        "\n",
        "# Add paragraphs to the story\n",
        "for paragraph in paragraphs:\n",
        "    if paragraph.strip() == \"\":\n",
        "        story.append(Spacer(1, 12))  # Add space between paragraphs\n",
        "    else:\n",
        "        p = Paragraph(paragraph, normal_style)\n",
        "        story.append(p)\n",
        "        story.append(Spacer(1, 12))  # Add space between paragraphs\n",
        "\n",
        "# Build the PDF\n",
        "document.build(story)\n",
        "\n",
        "print(f\"PDF created successfully: {pdf_filename}\")"
      ],
      "metadata": {
        "id": "yzA1z8ZGuXHd",
        "colab": {
          "base_uri": "https://localhost:8080/"
        },
        "outputId": "c5ec455a-81b0-4f1c-e159-5aa31448b6dd"
      },
      "execution_count": null,
      "outputs": [
        {
          "output_type": "stream",
          "name": "stdout",
          "text": [
            "Highlighted PDF saved to /content/highlighted_typos.pdf\n"
          ]
        }
      ]
    },
    {
      "cell_type": "code",
      "source": [],
      "metadata": {
        "id": "WwCNpNLNso8h"
      },
      "execution_count": null,
      "outputs": []
    }
  ]
}